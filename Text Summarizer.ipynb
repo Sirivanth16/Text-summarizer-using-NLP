{
 "cells": [
  {
   "cell_type": "code",
   "execution_count": 37,
   "metadata": {},
   "outputs": [],
   "source": [
    "text = \"\"\"\n",
    "Kohli captained India Under-19s to victory at the 2008 Under-19 World Cup in Malaysia. After a few months later, he made his ODI debut for India against Sri Lanka at the age of 19. Initially having played as a reserve batsman in the Indian team, he soon established himself as a regular in the ODI middle-order and was part of the squad that won the 2011 World Cup. He made his Test debut in 2011 and shrugged off the tag of \"ODI specialist\" by 2013 with Test hundreds in Australia and South Africa.[6] Having reached the number one spot in the ICC rankings for ODI batsmen for the first time in 2013,[7] Kohli also found success in the Twenty20 format, winning the Man of the Tournament twice at the ICC World Twenty20 (in 2014 and 2016).\n",
    "\n",
    "Kohli was appointed the vice-captain of the ODI team in 2012 and handed over the Test captaincy following Mahendra Singh Dhoni's Test retirement in 2014. In early 2017, he became the limited-overs captain as well after Dhoni stepped down from the position. In ODIs, Kohli has the second highest number of centuries and the highest number of centuries in run-chases in the world. He holds the world record for being the fastest batsman to 8,000, 9,000, 10,000 and 11,000 runs in ODI cricket, reaching the milestones in 175, 194, 205 and 222 innings respectively.[8][9] [10][11]\n",
    "\n",
    "Kohli has been the recipient of many awards such as the Sir Garfield Sobers Trophy (ICC Cricketer of the Year) in 2017 and 2018; ICC Test Player of the Year 2018; ICC ODI Player of the Year in 2012, 2017 and 2018 and Wisden Leading Cricketer in the World in 2016, 2017 and 2018.[12] He was given the Arjuna Award in 2013, the Padma Shri under the sports category in 2017[13] and the Rajiv Gandhi Khel Ratna, the highest sporting honour in India, in 2018.[14] Kohli is ranked as one of the world's most famous athletes by ESPN[15] and one of the most valuable athlete brands by Forbes.[16] In 2018, Time magazine named Kohli one of the 100 most influential people in the world.[17] In 2020, Kohli was ranked 66th in Forbes list of the top 100 highest paid athletes in the world for the year 2020 with estimated earnings of $26 million. Virat Kohli is the only cricketer to feature in Forbes.[\n",
    "\"\"\""
   ]
  },
  {
   "cell_type": "code",
   "execution_count": 38,
   "metadata": {},
   "outputs": [],
   "source": [
    "import spacy\n",
    "from spacy.lang.en.stop_words import STOP_WORDS\n",
    "from string import punctuation"
   ]
  },
  {
   "cell_type": "code",
   "execution_count": 39,
   "metadata": {},
   "outputs": [],
   "source": [
    "stopwords = list(STOP_WORDS)"
   ]
  },
  {
   "cell_type": "code",
   "execution_count": 40,
   "metadata": {},
   "outputs": [],
   "source": [
    "nlp = spacy.load('en_core_web_sm')"
   ]
  },
  {
   "cell_type": "code",
   "execution_count": 41,
   "metadata": {},
   "outputs": [],
   "source": [
    "doc = nlp(text)"
   ]
  },
  {
   "cell_type": "code",
   "execution_count": 42,
   "metadata": {},
   "outputs": [
    {
     "name": "stdout",
     "output_type": "stream",
     "text": [
      "['\\n', 'Kohli', 'captained', 'India', 'Under-19s', 'to', 'victory', 'at', 'the', '2008', 'Under-19', 'World', 'Cup', 'in', 'Malaysia', '.', 'After', 'a', 'few', 'months', 'later', ',', 'he', 'made', 'his', 'ODI', 'debut', 'for', 'India', 'against', 'Sri', 'Lanka', 'at', 'the', 'age', 'of', '19', '.', 'Initially', 'having', 'played', 'as', 'a', 'reserve', 'batsman', 'in', 'the', 'Indian', 'team', ',', 'he', 'soon', 'established', 'himself', 'as', 'a', 'regular', 'in', 'the', 'ODI', 'middle', '-', 'order', 'and', 'was', 'part', 'of', 'the', 'squad', 'that', 'won', 'the', '2011', 'World', 'Cup', '.', 'He', 'made', 'his', 'Test', 'debut', 'in', '2011', 'and', 'shrugged', 'off', 'the', 'tag', 'of', '\"', 'ODI', 'specialist', '\"', 'by', '2013', 'with', 'Test', 'hundreds', 'in', 'Australia', 'and', 'South', 'Africa.[6', ']', 'Having', 'reached', 'the', 'number', 'one', 'spot', 'in', 'the', 'ICC', 'rankings', 'for', 'ODI', 'batsmen', 'for', 'the', 'first', 'time', 'in', '2013,[7', ']', 'Kohli', 'also', 'found', 'success', 'in', 'the', 'Twenty20', 'format', ',', 'winning', 'the', 'Man', 'of', 'the', 'Tournament', 'twice', 'at', 'the', 'ICC', 'World', 'Twenty20', '(', 'in', '2014', 'and', '2016', ')', '.', '\\n\\n', 'Kohli', 'was', 'appointed', 'the', 'vice', '-', 'captain', 'of', 'the', 'ODI', 'team', 'in', '2012', 'and', 'handed', 'over', 'the', 'Test', 'captaincy', 'following', 'Mahendra', 'Singh', 'Dhoni', \"'s\", 'Test', 'retirement', 'in', '2014', '.', 'In', 'early', '2017', ',', 'he', 'became', 'the', 'limited', '-', 'overs', 'captain', 'as', 'well', 'after', 'Dhoni', 'stepped', 'down', 'from', 'the', 'position', '.', 'In', 'ODIs', ',', 'Kohli', 'has', 'the', 'second', 'highest', 'number', 'of', 'centuries', 'and', 'the', 'highest', 'number', 'of', 'centuries', 'in', 'run', '-', 'chases', 'in', 'the', 'world', '.', 'He', 'holds', 'the', 'world', 'record', 'for', 'being', 'the', 'fastest', 'batsman', 'to', '8,000', ',', '9,000', ',', '10,000', 'and', '11,000', 'runs', 'in', 'ODI', 'cricket', ',', 'reaching', 'the', 'milestones', 'in', '175', ',', '194', ',', '205', 'and', '222', 'innings', 'respectively.[8][9', ']', '[', '10][11', ']', '\\n\\n', 'Kohli', 'has', 'been', 'the', 'recipient', 'of', 'many', 'awards', 'such', 'as', 'the', 'Sir', 'Garfield', 'Sobers', 'Trophy', '(', 'ICC', 'Cricketer', 'of', 'the', 'Year', ')', 'in', '2017', 'and', '2018', ';', 'ICC', 'Test', 'Player', 'of', 'the', 'Year', '2018', ';', 'ICC', 'ODI', 'Player', 'of', 'the', 'Year', 'in', '2012', ',', '2017', 'and', '2018', 'and', 'Wisden', 'Leading', 'Cricketer', 'in', 'the', 'World', 'in', '2016', ',', '2017', 'and', '2018.[12', ']', 'He', 'was', 'given', 'the', 'Arjuna', 'Award', 'in', '2013', ',', 'the', 'Padma', 'Shri', 'under', 'the', 'sports', 'category', 'in', '2017[13', ']', 'and', 'the', 'Rajiv', 'Gandhi', 'Khel', 'Ratna', ',', 'the', 'highest', 'sporting', 'honour', 'in', 'India', ',', 'in', '2018.[14', ']', 'Kohli', 'is', 'ranked', 'as', 'one', 'of', 'the', 'world', \"'s\", 'most', 'famous', 'athletes', 'by', 'ESPN[15', ']', 'and', 'one', 'of', 'the', 'most', 'valuable', 'athlete', 'brands', 'by', 'Forbes.[16', ']', 'In', '2018', ',', 'Time', 'magazine', 'named', 'Kohli', 'one', 'of', 'the', '100', 'most', 'influential', 'people', 'in', 'the', 'world.[17', ']', 'In', '2020', ',', 'Kohli', 'was', 'ranked', '66th', 'in', 'Forbes', 'list', 'of', 'the', 'top', '100', 'highest', 'paid', 'athletes', 'in', 'the', 'world', 'for', 'the', 'year', '2020', 'with', 'estimated', 'earnings', 'of', '$', '26', 'million', '.', 'Virat', 'Kohli', 'is', 'the', 'only', 'cricketer', 'to', 'feature', 'in', 'Forbes', '.', '[', '\\n']\n"
     ]
    }
   ],
   "source": [
    "tokens = [token.text for token in doc]\n",
    "print(tokens)"
   ]
  },
  {
   "cell_type": "code",
   "execution_count": 43,
   "metadata": {},
   "outputs": [
    {
     "data": {
      "text/plain": [
       "'!\"#$%&\\'()*+,-./:;<=>?@[\\\\]^_`{|}~\\n'"
      ]
     },
     "execution_count": 43,
     "metadata": {},
     "output_type": "execute_result"
    }
   ],
   "source": [
    "punctuation = punctuation + '\\n'\n",
    "punctuation"
   ]
  },
  {
   "cell_type": "code",
   "execution_count": 44,
   "metadata": {},
   "outputs": [
    {
     "name": "stdout",
     "output_type": "stream",
     "text": [
      "{'Kohli': 9, 'captained': 1, 'India': 3, 'Under-19s': 1, 'victory': 1, '2008': 1, 'Under-19': 1, 'World': 4, 'Cup': 2, 'Malaysia': 1, 'months': 1, 'later': 1, 'ODI': 7, 'debut': 2, 'Sri': 1, 'Lanka': 1, 'age': 1, '19': 1, 'Initially': 1, 'having': 1, 'played': 1, 'reserve': 1, 'batsman': 2, 'Indian': 1, 'team': 2, 'soon': 1, 'established': 1, 'regular': 1, 'middle': 1, 'order': 1, 'squad': 1, 'won': 1, '2011': 2, 'Test': 5, 'shrugged': 1, 'tag': 1, 'specialist': 1, '2013': 2, 'hundreds': 1, 'Australia': 1, 'South': 1, 'Africa.[6': 1, 'Having': 1, 'reached': 1, 'number': 3, 'spot': 1, 'ICC': 5, 'rankings': 1, 'batsmen': 1, 'time': 1, '2013,[7': 1, 'found': 1, 'success': 1, 'Twenty20': 2, 'format': 1, 'winning': 1, 'Man': 1, 'Tournament': 1, 'twice': 1, '2014': 2, '2016': 2, '\\n\\n': 2, 'appointed': 1, 'vice': 1, 'captain': 2, '2012': 2, 'handed': 1, 'captaincy': 1, 'following': 1, 'Mahendra': 1, 'Singh': 1, 'Dhoni': 2, 'retirement': 1, 'early': 1, '2017': 4, 'limited': 1, 'overs': 1, 'stepped': 1, 'position': 1, 'ODIs': 1, 'second': 1, 'highest': 4, 'centuries': 2, 'run': 1, 'chases': 1, 'world': 4, 'holds': 1, 'record': 1, 'fastest': 1, '8,000': 1, '9,000': 1, '10,000': 1, '11,000': 1, 'runs': 1, 'cricket': 1, 'reaching': 1, 'milestones': 1, '175': 1, '194': 1, '205': 1, '222': 1, 'innings': 1, 'respectively.[8][9': 1, '10][11': 1, 'recipient': 1, 'awards': 1, 'Sir': 1, 'Garfield': 1, 'Sobers': 1, 'Trophy': 1, 'Cricketer': 2, 'Year': 3, '2018': 4, 'Player': 2, 'Wisden': 1, 'Leading': 1, '2018.[12': 1, 'given': 1, 'Arjuna': 1, 'Award': 1, 'Padma': 1, 'Shri': 1, 'sports': 1, 'category': 1, '2017[13': 1, 'Rajiv': 1, 'Gandhi': 1, 'Khel': 1, 'Ratna': 1, 'sporting': 1, 'honour': 1, '2018.[14': 1, 'ranked': 2, 'famous': 1, 'athletes': 2, 'ESPN[15': 1, 'valuable': 1, 'athlete': 1, 'brands': 1, 'Forbes.[16': 1, 'Time': 1, 'magazine': 1, 'named': 1, '100': 2, 'influential': 1, 'people': 1, 'world.[17': 1, '2020': 2, '66th': 1, 'Forbes': 2, 'list': 1, 'paid': 1, 'year': 1, 'estimated': 1, 'earnings': 1, '26': 1, 'million': 1, 'Virat': 1, 'cricketer': 1, 'feature': 1}\n"
     ]
    }
   ],
   "source": [
    "word_frequencies = {}\n",
    "for word in doc:\n",
    "    if word.text.lower() not in stopwords:\n",
    "        if word.text.lower() not in punctuation:\n",
    "            if word.text not in word_frequencies.keys():\n",
    "                word_frequencies[word.text] = 1\n",
    "            else:\n",
    "                word_frequencies[word.text] += 1\n",
    "                \n",
    "print(word_frequencies)"
   ]
  },
  {
   "cell_type": "code",
   "execution_count": 45,
   "metadata": {},
   "outputs": [
    {
     "data": {
      "text/plain": [
       "9"
      ]
     },
     "execution_count": 45,
     "metadata": {},
     "output_type": "execute_result"
    }
   ],
   "source": [
    "max_frequency = max(word_frequencies.values())\n",
    "max_frequency"
   ]
  },
  {
   "cell_type": "code",
   "execution_count": 46,
   "metadata": {},
   "outputs": [
    {
     "name": "stdout",
     "output_type": "stream",
     "text": [
      "{'Kohli': 1.0, 'captained': 0.1111111111111111, 'India': 0.3333333333333333, 'Under-19s': 0.1111111111111111, 'victory': 0.1111111111111111, '2008': 0.1111111111111111, 'Under-19': 0.1111111111111111, 'World': 0.4444444444444444, 'Cup': 0.2222222222222222, 'Malaysia': 0.1111111111111111, 'months': 0.1111111111111111, 'later': 0.1111111111111111, 'ODI': 0.7777777777777778, 'debut': 0.2222222222222222, 'Sri': 0.1111111111111111, 'Lanka': 0.1111111111111111, 'age': 0.1111111111111111, '19': 0.1111111111111111, 'Initially': 0.1111111111111111, 'having': 0.1111111111111111, 'played': 0.1111111111111111, 'reserve': 0.1111111111111111, 'batsman': 0.2222222222222222, 'Indian': 0.1111111111111111, 'team': 0.2222222222222222, 'soon': 0.1111111111111111, 'established': 0.1111111111111111, 'regular': 0.1111111111111111, 'middle': 0.1111111111111111, 'order': 0.1111111111111111, 'squad': 0.1111111111111111, 'won': 0.1111111111111111, '2011': 0.2222222222222222, 'Test': 0.5555555555555556, 'shrugged': 0.1111111111111111, 'tag': 0.1111111111111111, 'specialist': 0.1111111111111111, '2013': 0.2222222222222222, 'hundreds': 0.1111111111111111, 'Australia': 0.1111111111111111, 'South': 0.1111111111111111, 'Africa.[6': 0.1111111111111111, 'Having': 0.1111111111111111, 'reached': 0.1111111111111111, 'number': 0.3333333333333333, 'spot': 0.1111111111111111, 'ICC': 0.5555555555555556, 'rankings': 0.1111111111111111, 'batsmen': 0.1111111111111111, 'time': 0.1111111111111111, '2013,[7': 0.1111111111111111, 'found': 0.1111111111111111, 'success': 0.1111111111111111, 'Twenty20': 0.2222222222222222, 'format': 0.1111111111111111, 'winning': 0.1111111111111111, 'Man': 0.1111111111111111, 'Tournament': 0.1111111111111111, 'twice': 0.1111111111111111, '2014': 0.2222222222222222, '2016': 0.2222222222222222, '\\n\\n': 0.2222222222222222, 'appointed': 0.1111111111111111, 'vice': 0.1111111111111111, 'captain': 0.2222222222222222, '2012': 0.2222222222222222, 'handed': 0.1111111111111111, 'captaincy': 0.1111111111111111, 'following': 0.1111111111111111, 'Mahendra': 0.1111111111111111, 'Singh': 0.1111111111111111, 'Dhoni': 0.2222222222222222, 'retirement': 0.1111111111111111, 'early': 0.1111111111111111, '2017': 0.4444444444444444, 'limited': 0.1111111111111111, 'overs': 0.1111111111111111, 'stepped': 0.1111111111111111, 'position': 0.1111111111111111, 'ODIs': 0.1111111111111111, 'second': 0.1111111111111111, 'highest': 0.4444444444444444, 'centuries': 0.2222222222222222, 'run': 0.1111111111111111, 'chases': 0.1111111111111111, 'world': 0.4444444444444444, 'holds': 0.1111111111111111, 'record': 0.1111111111111111, 'fastest': 0.1111111111111111, '8,000': 0.1111111111111111, '9,000': 0.1111111111111111, '10,000': 0.1111111111111111, '11,000': 0.1111111111111111, 'runs': 0.1111111111111111, 'cricket': 0.1111111111111111, 'reaching': 0.1111111111111111, 'milestones': 0.1111111111111111, '175': 0.1111111111111111, '194': 0.1111111111111111, '205': 0.1111111111111111, '222': 0.1111111111111111, 'innings': 0.1111111111111111, 'respectively.[8][9': 0.1111111111111111, '10][11': 0.1111111111111111, 'recipient': 0.1111111111111111, 'awards': 0.1111111111111111, 'Sir': 0.1111111111111111, 'Garfield': 0.1111111111111111, 'Sobers': 0.1111111111111111, 'Trophy': 0.1111111111111111, 'Cricketer': 0.2222222222222222, 'Year': 0.3333333333333333, '2018': 0.4444444444444444, 'Player': 0.2222222222222222, 'Wisden': 0.1111111111111111, 'Leading': 0.1111111111111111, '2018.[12': 0.1111111111111111, 'given': 0.1111111111111111, 'Arjuna': 0.1111111111111111, 'Award': 0.1111111111111111, 'Padma': 0.1111111111111111, 'Shri': 0.1111111111111111, 'sports': 0.1111111111111111, 'category': 0.1111111111111111, '2017[13': 0.1111111111111111, 'Rajiv': 0.1111111111111111, 'Gandhi': 0.1111111111111111, 'Khel': 0.1111111111111111, 'Ratna': 0.1111111111111111, 'sporting': 0.1111111111111111, 'honour': 0.1111111111111111, '2018.[14': 0.1111111111111111, 'ranked': 0.2222222222222222, 'famous': 0.1111111111111111, 'athletes': 0.2222222222222222, 'ESPN[15': 0.1111111111111111, 'valuable': 0.1111111111111111, 'athlete': 0.1111111111111111, 'brands': 0.1111111111111111, 'Forbes.[16': 0.1111111111111111, 'Time': 0.1111111111111111, 'magazine': 0.1111111111111111, 'named': 0.1111111111111111, '100': 0.2222222222222222, 'influential': 0.1111111111111111, 'people': 0.1111111111111111, 'world.[17': 0.1111111111111111, '2020': 0.2222222222222222, '66th': 0.1111111111111111, 'Forbes': 0.2222222222222222, 'list': 0.1111111111111111, 'paid': 0.1111111111111111, 'year': 0.1111111111111111, 'estimated': 0.1111111111111111, 'earnings': 0.1111111111111111, '26': 0.1111111111111111, 'million': 0.1111111111111111, 'Virat': 0.1111111111111111, 'cricketer': 0.1111111111111111, 'feature': 0.1111111111111111}\n"
     ]
    }
   ],
   "source": [
    "for word in word_frequencies.keys():\n",
    "    word_frequencies[word] = word_frequencies[word]/max_frequency\n",
    "\n",
    "print(word_frequencies)"
   ]
  },
  {
   "cell_type": "code",
   "execution_count": 47,
   "metadata": {},
   "outputs": [
    {
     "name": "stdout",
     "output_type": "stream",
     "text": [
      "[\n",
      "Kohli captained India Under-19s to victory at the 2008 Under-19 World Cup in Malaysia., After a few months later, he made his ODI debut for India against Sri Lanka at the age of 19., Initially having played as a reserve batsman in the Indian team, he soon established himself as a regular in the ODI middle-order and was part of the squad that won the 2011 World Cup., He made his Test debut in 2011 and shrugged off the tag of \"ODI specialist\" by 2013 with Test hundreds in Australia and South Africa.[6], Having reached the number one spot in the ICC rankings for ODI batsmen for the first time in 2013,[7], Kohli also found success in the Twenty20 format, winning the Man of the Tournament twice at the ICC World Twenty20, (in 2014 and 2016).\n",
      "\n",
      ", Kohli was appointed the vice-captain of the ODI team in 2012 and handed over the Test captaincy following Mahendra Singh Dhoni's Test retirement in 2014., In early 2017, he became the limited-overs captain as well after Dhoni stepped down from the position., In ODIs, Kohli has the second highest number of centuries and the highest number of centuries in run-chases in the world., He holds the world record for being the fastest batsman to 8,000, 9,000, 10,000 and 11,000 runs in ODI cricket, reaching the milestones in 175, 194, 205 and 222 innings respectively.[8][9], [10][11]\n",
      "\n",
      "Kohli has been the recipient of many awards such as the Sir Garfield Sobers Trophy, (ICC Cricketer of the Year) in 2017 and 2018; ICC Test Player of the Year 2018; ICC ODI Player of the Year in 2012, 2017 and 2018 and Wisden Leading Cricketer in the World in 2016, 2017 and 2018.[12], He was given the Arjuna Award in 2013, the Padma Shri under the sports category in 2017[13] and the Rajiv Gandhi Khel Ratna, the highest sporting honour in India, in 2018.[14], Kohli is ranked as one of the world's most famous athletes by ESPN[15] and one of the most valuable athlete brands by Forbes.[16], In 2018, Time magazine named Kohli one of the 100 most influential people in the world.[17], In 2020, Kohli was ranked 66th in Forbes list of the top 100 highest paid athletes in the world for the year 2020 with estimated earnings of $26 million., Virat Kohli is the only cricketer to feature in Forbes., [\n",
      "]\n"
     ]
    }
   ],
   "source": [
    "sentence_tokens = [sent for sent in doc.sents]\n",
    "print(sentence_tokens)"
   ]
  },
  {
   "cell_type": "code",
   "execution_count": 48,
   "metadata": {},
   "outputs": [
    {
     "data": {
      "text/plain": [
       "{\n",
       " Kohli captained India Under-19s to victory at the 2008 Under-19 World Cup in Malaysia.: 0.7777777777777777,\n",
       " After a few months later, he made his ODI debut for India against Sri Lanka at the age of 19.: 0.6666666666666667,\n",
       " Initially having played as a reserve batsman in the Indian team, he soon established himself as a regular in the ODI middle-order and was part of the squad that won the 2011 World Cup.: 2.2222222222222223,\n",
       " He made his Test debut in 2011 and shrugged off the tag of \"ODI specialist\" by 2013 with Test hundreds in Australia and South Africa.[6]: 1.1111111111111112,\n",
       " Having reached the number one spot in the ICC rankings for ODI batsmen for the first time in 2013,[7]: 1.1111111111111114,\n",
       " Kohli also found success in the Twenty20 format, winning the Man of the Tournament twice at the ICC World Twenty20: 1.0,\n",
       " (in 2014 and 2016).\n",
       " : 0.6666666666666666,\n",
       " Kohli was appointed the vice-captain of the ODI team in 2012 and handed over the Test captaincy following Mahendra Singh Dhoni's Test retirement in 2014.: 1.5555555555555558,\n",
       " In early 2017, he became the limited-overs captain as well after Dhoni stepped down from the position.: 1.2222222222222223,\n",
       " In ODIs, Kohli has the second highest number of centuries and the highest number of centuries in run-chases in the world.: 2.7777777777777777,\n",
       " He holds the world record for being the fastest batsman to 8,000, 9,000, 10,000 and 11,000 runs in ODI cricket, reaching the milestones in 175, 194, 205 and 222 innings respectively.[8][9]: 2.5555555555555562,\n",
       " [10][11]\n",
       " \n",
       " Kohli has been the recipient of many awards such as the Sir Garfield Sobers Trophy: 0.5555555555555556,\n",
       " (ICC Cricketer of the Year) in 2017 and 2018; ICC Test Player of the Year 2018; ICC ODI Player of the Year in 2012, 2017 and 2018 and Wisden Leading Cricketer in the World in 2016, 2017 and 2018.[12]: 4.222222222222222,\n",
       " He was given the Arjuna Award in 2013, the Padma Shri under the sports category in 2017[13] and the Rajiv Gandhi Khel Ratna, the highest sporting honour in India, in 2018.[14]: 1.4444444444444446,\n",
       " Kohli is ranked as one of the world's most famous athletes by ESPN[15] and one of the most valuable athlete brands by Forbes.[16]: 1.3333333333333333,\n",
       " In 2018, Time magazine named Kohli one of the 100 most influential people in the world.[17]: 1.3333333333333335,\n",
       " In 2020, Kohli was ranked 66th in Forbes list of the top 100 highest paid athletes in the world for the year 2020 with estimated earnings of $26 million.: 2.8888888888888897,\n",
       " Virat Kohli is the only cricketer to feature in Forbes.: 0.2222222222222222}"
      ]
     },
     "execution_count": 48,
     "metadata": {},
     "output_type": "execute_result"
    }
   ],
   "source": [
    "sentence_scores = {}\n",
    "for sent in sentence_tokens:\n",
    "    for word in sent:\n",
    "        if word.text.lower() in word_frequencies.keys():\n",
    "            if sent not in sentence_scores.keys():\n",
    "                sentence_scores[sent] = word_frequencies[word.text.lower()]\n",
    "            else:\n",
    "                sentence_scores[sent] += word_frequencies[word.text.lower()]\n",
    "                \n",
    "sentence_scores"
   ]
  },
  {
   "cell_type": "code",
   "execution_count": 49,
   "metadata": {},
   "outputs": [],
   "source": [
    "from heapq import nlargest"
   ]
  },
  {
   "cell_type": "code",
   "execution_count": 50,
   "metadata": {},
   "outputs": [
    {
     "data": {
      "text/plain": [
       "9"
      ]
     },
     "execution_count": 50,
     "metadata": {},
     "output_type": "execute_result"
    }
   ],
   "source": [
    "select_length = int(len(sentence_tokens)*0.5)\n",
    "select_length"
   ]
  },
  {
   "cell_type": "code",
   "execution_count": 51,
   "metadata": {},
   "outputs": [
    {
     "data": {
      "text/plain": [
       "[(ICC Cricketer of the Year) in 2017 and 2018; ICC Test Player of the Year 2018; ICC ODI Player of the Year in 2012, 2017 and 2018 and Wisden Leading Cricketer in the World in 2016, 2017 and 2018.[12],\n",
       " In 2020, Kohli was ranked 66th in Forbes list of the top 100 highest paid athletes in the world for the year 2020 with estimated earnings of $26 million.,\n",
       " In ODIs, Kohli has the second highest number of centuries and the highest number of centuries in run-chases in the world.,\n",
       " He holds the world record for being the fastest batsman to 8,000, 9,000, 10,000 and 11,000 runs in ODI cricket, reaching the milestones in 175, 194, 205 and 222 innings respectively.[8][9],\n",
       " Initially having played as a reserve batsman in the Indian team, he soon established himself as a regular in the ODI middle-order and was part of the squad that won the 2011 World Cup.,\n",
       " Kohli was appointed the vice-captain of the ODI team in 2012 and handed over the Test captaincy following Mahendra Singh Dhoni's Test retirement in 2014.,\n",
       " He was given the Arjuna Award in 2013, the Padma Shri under the sports category in 2017[13] and the Rajiv Gandhi Khel Ratna, the highest sporting honour in India, in 2018.[14],\n",
       " In 2018, Time magazine named Kohli one of the 100 most influential people in the world.[17],\n",
       " Kohli is ranked as one of the world's most famous athletes by ESPN[15] and one of the most valuable athlete brands by Forbes.[16]]"
      ]
     },
     "execution_count": 51,
     "metadata": {},
     "output_type": "execute_result"
    }
   ],
   "source": [
    "summary = nlargest(select_length, sentence_scores, key = sentence_scores.get)\n",
    "summary"
   ]
  },
  {
   "cell_type": "code",
   "execution_count": 52,
   "metadata": {},
   "outputs": [],
   "source": [
    "final_summary = [word.text for word in summary]\n",
    "summary = ' '.join(final_summary)"
   ]
  },
  {
   "cell_type": "code",
   "execution_count": 53,
   "metadata": {},
   "outputs": [
    {
     "name": "stdout",
     "output_type": "stream",
     "text": [
      "\n",
      "Kohli captained India Under-19s to victory at the 2008 Under-19 World Cup in Malaysia. After a few months later, he made his ODI debut for India against Sri Lanka at the age of 19. Initially having played as a reserve batsman in the Indian team, he soon established himself as a regular in the ODI middle-order and was part of the squad that won the 2011 World Cup. He made his Test debut in 2011 and shrugged off the tag of \"ODI specialist\" by 2013 with Test hundreds in Australia and South Africa.[6] Having reached the number one spot in the ICC rankings for ODI batsmen for the first time in 2013,[7] Kohli also found success in the Twenty20 format, winning the Man of the Tournament twice at the ICC World Twenty20 (in 2014 and 2016).\n",
      "\n",
      "Kohli was appointed the vice-captain of the ODI team in 2012 and handed over the Test captaincy following Mahendra Singh Dhoni's Test retirement in 2014. In early 2017, he became the limited-overs captain as well after Dhoni stepped down from the position. In ODIs, Kohli has the second highest number of centuries and the highest number of centuries in run-chases in the world. He holds the world record for being the fastest batsman to 8,000, 9,000, 10,000 and 11,000 runs in ODI cricket, reaching the milestones in 175, 194, 205 and 222 innings respectively.[8][9] [10][11]\n",
      "\n",
      "Kohli has been the recipient of many awards such as the Sir Garfield Sobers Trophy (ICC Cricketer of the Year) in 2017 and 2018; ICC Test Player of the Year 2018; ICC ODI Player of the Year in 2012, 2017 and 2018 and Wisden Leading Cricketer in the World in 2016, 2017 and 2018.[12] He was given the Arjuna Award in 2013, the Padma Shri under the sports category in 2017[13] and the Rajiv Gandhi Khel Ratna, the highest sporting honour in India, in 2018.[14] Kohli is ranked as one of the world's most famous athletes by ESPN[15] and one of the most valuable athlete brands by Forbes.[16] In 2018, Time magazine named Kohli one of the 100 most influential people in the world.[17] In 2020, Kohli was ranked 66th in Forbes list of the top 100 highest paid athletes in the world for the year 2020 with estimated earnings of $26 million. Virat Kohli is the only cricketer to feature in Forbes.[\n",
      "\n"
     ]
    }
   ],
   "source": [
    "print(text)"
   ]
  },
  {
   "cell_type": "code",
   "execution_count": 54,
   "metadata": {},
   "outputs": [
    {
     "name": "stdout",
     "output_type": "stream",
     "text": [
      "(ICC Cricketer of the Year) in 2017 and 2018; ICC Test Player of the Year 2018; ICC ODI Player of the Year in 2012, 2017 and 2018 and Wisden Leading Cricketer in the World in 2016, 2017 and 2018.[12] In 2020, Kohli was ranked 66th in Forbes list of the top 100 highest paid athletes in the world for the year 2020 with estimated earnings of $26 million. In ODIs, Kohli has the second highest number of centuries and the highest number of centuries in run-chases in the world. He holds the world record for being the fastest batsman to 8,000, 9,000, 10,000 and 11,000 runs in ODI cricket, reaching the milestones in 175, 194, 205 and 222 innings respectively.[8][9] Initially having played as a reserve batsman in the Indian team, he soon established himself as a regular in the ODI middle-order and was part of the squad that won the 2011 World Cup. Kohli was appointed the vice-captain of the ODI team in 2012 and handed over the Test captaincy following Mahendra Singh Dhoni's Test retirement in 2014. He was given the Arjuna Award in 2013, the Padma Shri under the sports category in 2017[13] and the Rajiv Gandhi Khel Ratna, the highest sporting honour in India, in 2018.[14] In 2018, Time magazine named Kohli one of the 100 most influential people in the world.[17] Kohli is ranked as one of the world's most famous athletes by ESPN[15] and one of the most valuable athlete brands by Forbes.[16]\n"
     ]
    }
   ],
   "source": [
    "print(summary)"
   ]
  },
  {
   "cell_type": "code",
   "execution_count": 55,
   "metadata": {},
   "outputs": [
    {
     "data": {
      "text/plain": [
       "2212"
      ]
     },
     "execution_count": 55,
     "metadata": {},
     "output_type": "execute_result"
    }
   ],
   "source": [
    "len(text)"
   ]
  },
  {
   "cell_type": "code",
   "execution_count": 56,
   "metadata": {},
   "outputs": [
    {
     "data": {
      "text/plain": [
       "1401"
      ]
     },
     "execution_count": 56,
     "metadata": {},
     "output_type": "execute_result"
    }
   ],
   "source": [
    "len(summary)"
   ]
  },
  {
   "cell_type": "code",
   "execution_count": null,
   "metadata": {},
   "outputs": [],
   "source": []
  }
 ],
 "metadata": {
  "kernelspec": {
   "display_name": "Python 3",
   "language": "python",
   "name": "python3"
  },
  "language_info": {
   "codemirror_mode": {
    "name": "ipython",
    "version": 3
   },
   "file_extension": ".py",
   "mimetype": "text/x-python",
   "name": "python",
   "nbconvert_exporter": "python",
   "pygments_lexer": "ipython3",
   "version": "3.8.3"
  }
 },
 "nbformat": 4,
 "nbformat_minor": 4
}
